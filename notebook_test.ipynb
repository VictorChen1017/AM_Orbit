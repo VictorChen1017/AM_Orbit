{
 "cells": [
  {
   "cell_type": "code",
   "execution_count": 4,
   "metadata": {},
   "outputs": [],
   "source": [
    "import pandas as pd\n",
    "from osgeo import gdal\n",
    "from osgeo import ogr\n",
    "from osgeo import osr\n",
    "from osgeo import gdal_array\n",
    "from osgeo import gdalconst\n",
    "\n",
    "\n"
   ]
  },
  {
   "cell_type": "markdown",
   "metadata": {},
   "source": [
    "### 參考資料\n",
    "https://pcjericks.github.io/py-gdalogr-cookbook/"
   ]
  },
  {
   "cell_type": "code",
   "execution_count": 21,
   "metadata": {},
   "outputs": [
    {
     "data": {
      "text/plain": [
       "[25.1507425088795,\n",
       " 25.1508373135921,\n",
       " 25.1510269230136,\n",
       " 25.1511217277225,\n",
       " 25.1514076742258,\n",
       " 25.1513128695142,\n",
       " 25.1507440412178,\n",
       " 25.1506492364973,\n",
       " 25.1506507686643,\n",
       " 25.1507455733913,\n",
       " 25.1515040111623,\n",
       " 25.151598815878,\n",
       " 25.1518847621051,\n",
       " 25.1517899573867,\n",
       " 25.1506523006666,\n",
       " 25.1505574959317,\n",
       " 25.1505590277627,\n",
       " 25.1506538325041,\n",
       " 25.1519810987518,\n",
       " 25.1520759034743,\n",
       " 25.1521722399734,\n",
       " 25.1520774352456,\n",
       " 25.150560559429,\n",
       " 25.1504657546797,\n",
       " 25.1504672861748,\n",
       " 25.1505620909306,\n",
       " 25.1520789668521,\n",
       " 25.1521737715865,\n",
       " 25.1520804982939,\n",
       " 25.1519856935517,\n",
       " 25.150848036547,\n",
       " 25.1507532317884,\n",
       " 25.1509443725026,\n",
       " 25.1510391772653,\n",
       " 25.1518924200722,\n",
       " 25.1519872248223,\n",
       " 25.1518939511715,\n",
       " 25.1517991464136,\n",
       " 25.1513251226055,\n",
       " 25.1512303178401,\n",
       " 25.1515162630408,\n",
       " 25.151611067809,\n",
       " 25.1518006773415,\n",
       " 25.151895482106]"
      ]
     },
     "execution_count": 21,
     "metadata": {},
     "output_type": "execute_result"
    }
   ],
   "source": []
  },
  {
   "cell_type": "code",
   "execution_count": 22,
   "metadata": {},
   "outputs": [],
   "source": [
    "from pyproj import CRS"
   ]
  },
  {
   "cell_type": "code",
   "execution_count": 30,
   "metadata": {},
   "outputs": [
    {
     "name": "stdout",
     "output_type": "stream",
     "text": [
      "[305204.723173963, 305204.56735799526, 305204.25572431734, 305204.0999067072, 305219.38365638006, 305219.5394757103, 305220.47437999427, 305220.6301954638, 305236.3814027306, 305236.2255872863, 305234.9790437244, 305234.8232232571, 305250.10696706135, 305250.2627891519, 305252.1326112532, 305252.288426199, 305268.03963605745, 305267.8838210317, 305265.7023539588, 305265.5465307306, 305281.1419177822, 305281.29774157226, 305283.7908470693, 305283.9466614913, 305299.6978737391, 305299.54205923737, 305297.0489535701, 305296.89312980167, 305312.80016672146, 305312.9559899896, 305314.82582603476, 305314.9816421575, 305330.42122409696, 305330.2654068342, 305328.86302714853, 305328.70720448083, 305344.6142429745, 305344.7700651391, 305345.54916776775, 305345.704986652, 305360.98874535767, 305360.832924854, 305360.5212820999, 305360.36545985454]\n"
     ]
    }
   ],
   "source": [
    "# 將csv轉成shp\n",
    "import geopandas as gpd\n",
    "from shapely.geometry import Point\n",
    "\n",
    "flypath = pd.read_csv(\"C:/Users/USER/Desktop/飛行任務/dont_curved.csv\") # test data\n",
    "geometry = [Point(xy) for xy in zip(flypath[\"longitude\"], flypath[\"latitude\"])]\n",
    "crs = 'EPSG:4326'\n",
    "fp = gpd.GeoDataFrame(flypath, geometry=geometry, crs=crs)\n",
    "fp.head() # GeoDataFrame\n",
    "\n",
    "fp_3826 = fp.to_crs('EPSG:3826') # transform crs using geopandas method\n",
    "# extract geometry by list, x and y\n",
    "fp_3826_x = [point.x for point in fp_3826['geometry']]\n",
    "fp_3826_y = [point.y for point in fp_3826['geometry']]\n"
   ]
  },
  {
   "cell_type": "code",
   "execution_count": 6,
   "metadata": {},
   "outputs": [
    {
     "name": "stdout",
     "output_type": "stream",
     "text": [
      "POINT (301172 2770677 0)\n"
     ]
    }
   ],
   "source": [
    "# 創建點圖資\n",
    "point = ogr.Geometry(ogr.wkbPoint)\n",
    "point.AddPoint(301172,2770677)\n",
    "print (point.ExportToWkt())"
   ]
  },
  {
   "cell_type": "code",
   "execution_count": 8,
   "metadata": {},
   "outputs": [],
   "source": [
    "# 讀取raster\n",
    "import sys\n",
    "# this allows GDAL to throw Python Exceptions\n",
    "gdal.UseExceptions()\n",
    "path = \"C:/Users/USER/Documents/GIS圖資/常用基本圖資/Raster/台北DEM/taipei dem3826.tif\"\n",
    "\n",
    "try:\n",
    "    src_ds = gdal.Open(path)\n",
    "except RuntimeError as e:\n",
    "    print('Unable to open INPUT.tif')\n",
    "    print(e)\n",
    "    sys.exit(1)\n",
    "\n",
    "try:\n",
    "    srcband = src_ds.GetRasterBand(1)\n",
    "except RuntimeError as e:\n",
    "    # for example, try GetRasterBand(10)\n",
    "    print('Band ( %i ) not found' % band_num)\n",
    "    print(e)\n",
    "    sys.exit(1)"
   ]
  },
  {
   "cell_type": "code",
   "execution_count": 9,
   "metadata": {},
   "outputs": [
    {
     "name": "stdout",
     "output_type": "stream",
     "text": [
      "[296110.0, 317190.0, 2761549.9999, 2789169.9999]\n"
     ]
    }
   ],
   "source": [
    "# show the bonding box of rasterdata\n",
    "\n",
    "geotransform = src_ds.GetGeoTransform()\n",
    "# print(geotransform) (296110.0, 20.0, 0.0, 2789170.0, 0.0, -20.0) top left x, pixel size , rotation,  top left y, pixel size , rotation\n",
    "width = src_ds.RasterXSize\n",
    "height = src_ds.RasterYSize\n",
    "min_x = geotransform[0]\n",
    "max_x = geotransform[0] + (width * geotransform[1]) + (height * geotransform[2])\n",
    "min_y = geotransform[3] + (width * geotransform[4]) + (height * geotransform[5])\n",
    "max_y = geotransform[3]\n",
    "box = [min_x,max_x,min_y,max_y]\n",
    "print(box)\n",
    "# elev = raster.data[301172,2770677]\n",
    "# print(elev)"
   ]
  },
  {
   "cell_type": "code",
   "execution_count": 10,
   "metadata": {},
   "outputs": [
    {
     "name": "stdout",
     "output_type": "stream",
     "text": [
      "-32767\n"
     ]
    }
   ],
   "source": [
    "raster_data = src_ds.ReadAsArray()\n",
    "value = raster_data[1,2]\n",
    "print(value)"
   ]
  },
  {
   "cell_type": "code",
   "execution_count": 44,
   "metadata": {},
   "outputs": [
    {
     "data": {
      "text/plain": [
       "osgeo.gdal.Dataset"
      ]
     },
     "execution_count": 44,
     "metadata": {},
     "output_type": "execute_result"
    }
   ],
   "source": [
    "type(src_ds)"
   ]
  },
  {
   "cell_type": "code",
   "execution_count": 11,
   "metadata": {},
   "outputs": [
    {
     "name": "stdout",
     "output_type": "stream",
     "text": [
      "PROJCS[\"TWD97 / TM2 zone 121\",\n",
      "    GEOGCS[\"TWD97\",\n",
      "        DATUM[\"Taiwan_Datum_1997\",\n",
      "            SPHEROID[\"GRS 1980\",6378137,298.257222101,\n",
      "                AUTHORITY[\"EPSG\",\"7019\"]],\n",
      "            AUTHORITY[\"EPSG\",\"1026\"]],\n",
      "        PRIMEM[\"Greenwich\",0,\n",
      "            AUTHORITY[\"EPSG\",\"8901\"]],\n",
      "        UNIT[\"degree\",0.0174532925199433,\n",
      "            AUTHORITY[\"EPSG\",\"9122\"]],\n",
      "        AUTHORITY[\"EPSG\",\"3824\"]],\n",
      "    PROJECTION[\"Transverse_Mercator\"],\n",
      "    PARAMETER[\"latitude_of_origin\",0],\n",
      "    PARAMETER[\"central_meridian\",121],\n",
      "    PARAMETER[\"scale_factor\",0.9999],\n",
      "    PARAMETER[\"false_easting\",250000],\n",
      "    PARAMETER[\"false_northing\",0],\n",
      "    UNIT[\"metre\",1,\n",
      "        AUTHORITY[\"EPSG\",\"9001\"]],\n",
      "    AXIS[\"Easting\",EAST],\n",
      "    AXIS[\"Northing\",NORTH],\n",
      "    AUTHORITY[\"EPSG\",\"3826\"]]\n"
     ]
    }
   ],
   "source": [
    "longitude = 301172 \n",
    "latitude = 2770677\n",
    "raster_srs = osr.SpatialReference()\n",
    "raster_srs.ImportFromWkt(src_ds.GetProjection())\n",
    "print(raster_srs)\n"
   ]
  },
  {
   "cell_type": "code",
   "execution_count": 64,
   "metadata": {},
   "outputs": [],
   "source": [
    "from affine import Affine\n",
    "import numpy as np\n",
    "\n",
    "# 座標轉換\n",
    "lat = [25.0163750]\n",
    "lon = [121.536791]\n",
    "x_coords = [305283.946661491296254]\n",
    "y_coords = [2782556.027021550107747]\n",
    "\n",
    "# aff座標轉換有誤\n",
    "# aff = Affine.from_gdal(*geotransform)\n",
    "# x_coords, y_coords = aff*(np.array(lat),np.array(lon))\n",
    "# print(x_coords, y_coords)\n"
   ]
  },
  {
   "cell_type": "code",
   "execution_count": 65,
   "metadata": {},
   "outputs": [
    {
     "name": "stdout",
     "output_type": "stream",
     "text": [
      "305283.9466614913 2782556.02702155\n",
      "458 330\n",
      "409\n"
     ]
    }
   ],
   "source": [
    "# https://gis.stackexchange.com/questions/225370/get-individual-pixel-values-on-a-raster-image-using-gdal-and-python?fbclid=IwAR1b0SvcY4L2QYzMK0lBAjvl_arGRCl0b7GX3jmZeUYwK_RyyWO2p-E2q5A#:~:text=from%20osgeo%20import%20gdal%20import%20sys%20%23%20coordinates,values%20value%20%3D%20data%20%5ByOffset%5D%20%5BxOffset%5D%20print%20value\n",
    "band = src_ds.GetRasterBand(1)\n",
    "xOrigin = geotransform[0]\n",
    "yOrigin = geotransform[3]\n",
    "pixelWidth = geotransform[1]\n",
    "pixelHeight = geotransform[5]\n",
    "\n",
    "# loop through the coordinates\n",
    "for i in range(len(lon)):\n",
    "    x = x_coords[i]\n",
    "    y = y_coords[i]\n",
    "    # compute pixel offset\n",
    "    xOffset = int((x - xOrigin) / pixelWidth)\n",
    "    yOffset = int((y - yOrigin) / pixelHeight)\n",
    "    # get individual pixel values\n",
    "    data = band.ReadAsArray(xOffset, yOffset, 1, 1)\n",
    "    value = data[0, 0]\n",
    "    print(value)\n"
   ]
  },
  {
   "cell_type": "code",
   "execution_count": 31,
   "metadata": {},
   "outputs": [
    {
     "name": "stdout",
     "output_type": "stream",
     "text": [
      "[412, 413, 414, 414, 416, 416, 411, 411, 410, 410, 417, 417, 418, 417, 409, 408, 408, 409, 418, 419, 419, 419, 409, 409, 414, 414, 420, 420, 420, 419, 415, 415, 417, 417, 419, 419, 420, 419, 418, 418, 419, 419, 420, 422]\n"
     ]
    }
   ],
   "source": [
    "# extract method\n",
    "\n",
    "# I/O : Input 3826 list of x, y such that\n",
    "# x = [305204.723173963022418,305220.630195463774726, ....]\n",
    "# y = [2782586.360826591961086, 2782576.093745744321495, ...]\n",
    "# raster path \n",
    "\n",
    "# import\n",
    "\n",
    "from osgeo import gdal\n",
    "from osgeo import ogr\n",
    "from osgeo import osr\n",
    "from osgeo import gdal_array\n",
    "from osgeo import gdalconst\n",
    "\n",
    "import sys\n",
    "import numpy as np\n",
    "\n",
    "\n",
    "\n",
    "# data\n",
    "path = \"C:/Users/USER/Documents/GIS圖資/常用基本圖資/Raster/台北DEM/taipei dem3826.tif\"\n",
    "#x_coords = [305283.946661491296254,305220.6301954637]\n",
    "#y_coords = [2782556.027021550107747,2782576.09374574]\n",
    "\n",
    "x_coords = fp_3826_x\n",
    "y_coords = fp_3826_y\n",
    "\n",
    "# main\n",
    "\n",
    "def extract(path:str,x_coords:list[float],y_coords:list[float])->list[float|int]:\n",
    "    '''\n",
    "    this methon can sample the values from DEM for given points.\n",
    "    \n",
    "    Parameters:\n",
    "    -----\n",
    "    path:str path of DEM dataset\n",
    "    x_coords:list[float] x_coordinates of points\n",
    "    y_coords:list[float] y_coordinates of points\n",
    "\n",
    "    Output\n",
    "    -----\n",
    "    elev:list[float|int] list of elevation extract results\n",
    "    \n",
    "\n",
    "    '''\n",
    "    # this allows GDAL to throw Python Exceptions\n",
    "    gdal.UseExceptions()\n",
    "    try:\n",
    "        src_ds = gdal.Open(path)\n",
    "    except RuntimeError as e:\n",
    "        print('Unable to open INPUT.tif')\n",
    "        print(e)\n",
    "        sys.exit(1)\n",
    "\n",
    "    try:\n",
    "        band = src_ds.GetRasterBand(1)\n",
    "    except RuntimeError as e:\n",
    "        # for example, try GetRasterBand(10)\n",
    "        print(e)\n",
    "        sys.exit(1)\n",
    "\n",
    "    geotransform = src_ds.GetGeoTransform() # (296110.0, 20.0, 0.0, 2789170.0, 0.0, -20.0) top left x, pixel size , rotation,  top left y, pixel size , rotation\n",
    "    band = src_ds.GetRasterBand(1)\n",
    "    xOrigin = geotransform[0]\n",
    "    yOrigin = geotransform[3]\n",
    "    pixelWidth = geotransform[1]\n",
    "    pixelHeight = geotransform[5]\n",
    "\n",
    "    elev = [] # storage elevation result\n",
    "\n",
    "    for i in range(len(x_coords)): # number of data\n",
    "        x = x_coords[i]\n",
    "        y = y_coords[i]\n",
    "        # compute pixel offset\n",
    "        xOffset = int((x - xOrigin) / pixelWidth)\n",
    "        yOffset = int((y - yOrigin) / pixelHeight)\n",
    "        # get individual pixel values\n",
    "        data = band.ReadAsArray(xOffset, yOffset, 1, 1)\n",
    "        value = data[0, 0]\n",
    "        elev.append(value)\n",
    "\n",
    "    return elev\n",
    "\n",
    "result = extract(path,x_coords,y_coords)\n",
    "print(result)"
   ]
  },
  {
   "cell_type": "code",
   "execution_count": 38,
   "metadata": {},
   "outputs": [
    {
     "name": "stdout",
     "output_type": "stream",
     "text": [
      "[0, 1, 2, 2, 4, 4, -1, -1, -2, -2, 5, 5, 6, 5, -3, -4, -4, -3, 6, 7, 7, 7, -3, -3, 2, 2, 8, 8, 8, 7, 3, 3, 5, 5, 7, 7, 8, 7, 6, 6, 7, 7, 8, 10]\n"
     ]
    }
   ],
   "source": [
    "base_hight = result[0]\n",
    "delta_hight = result\n",
    "for i in range(0,len(delta_hight)):\n",
    "    delta_hight[i] = result[i]-base_hight\n",
    "# print(delta_hight) # difference between orignal hight dem and way pts\n",
    "\n"
   ]
  },
  {
   "cell_type": "code",
   "execution_count": 40,
   "metadata": {},
   "outputs": [
    {
     "data": {
      "text/plain": [
       "0     50\n",
       "1     51\n",
       "2     52\n",
       "3     52\n",
       "4     54\n",
       "5     54\n",
       "6     49\n",
       "7     49\n",
       "8     48\n",
       "9     48\n",
       "10    55\n",
       "11    55\n",
       "12    56\n",
       "13    55\n",
       "14    47\n",
       "15    46\n",
       "16    46\n",
       "17    47\n",
       "18    56\n",
       "19    57\n",
       "20    57\n",
       "21    57\n",
       "22    47\n",
       "23    47\n",
       "24    52\n",
       "25    52\n",
       "26    58\n",
       "27    58\n",
       "28    58\n",
       "29    57\n",
       "30    53\n",
       "31    53\n",
       "32    55\n",
       "33    55\n",
       "34    57\n",
       "35    57\n",
       "36    58\n",
       "37    57\n",
       "38    56\n",
       "39    56\n",
       "40    57\n",
       "41    57\n",
       "42    58\n",
       "43    60\n",
       "Name: new_elev, dtype: int64"
      ]
     },
     "execution_count": 40,
     "metadata": {},
     "output_type": "execute_result"
    }
   ],
   "source": [
    "flypath[\"new_elev\"] = flypath[\"altitude(m)\"]+delta_hight\n",
    "flypath[\"new_elev\"]"
   ]
  }
 ],
 "metadata": {
  "kernelspec": {
   "display_name": "base",
   "language": "python",
   "name": "python3"
  },
  "language_info": {
   "codemirror_mode": {
    "name": "ipython",
    "version": 3
   },
   "file_extension": ".py",
   "mimetype": "text/x-python",
   "name": "python",
   "nbconvert_exporter": "python",
   "pygments_lexer": "ipython3",
   "version": "3.11.4"
  },
  "orig_nbformat": 4
 },
 "nbformat": 4,
 "nbformat_minor": 2
}
